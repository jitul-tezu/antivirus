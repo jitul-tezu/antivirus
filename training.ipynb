{
 "cells": [
  {
   "cell_type": "code",
   "execution_count": 1,
   "metadata": {},
   "outputs": [],
   "source": [
    "#! /usr/bin/python2\n",
    "import pandas as pd #used for DATAFrames and DataFrames can hold different types data of multidimensional arrays. \n",
    "import numpy as np#Numpy provides robust data structures for efficient computation of multi-dimensional arrays & matrices.\n",
    "import pickle\n",
    "import sklearn.ensemble as ske\n",
    "from sklearn.model_selection import train_test_split\n",
    "from sklearn import  tree, linear_model\n",
    "from sklearn.feature_selection import SelectFromModel\n",
    "import joblib\n",
    "from sklearn.naive_bayes import GaussianNB\n",
    "from sklearn.metrics import confusion_matrix"
   ]
  },
  {
   "cell_type": "code",
   "execution_count": 2,
   "metadata": {},
   "outputs": [
    {
     "name": "stdout",
     "output_type": "stream",
     "text": [
      "Researching important feature based on 54 total features\n",
      "\n"
     ]
    }
   ],
   "source": [
    "data = pd.read_csv('data.csv', sep='|') #generate df as data\n",
    "X = data.drop(['Name', 'md5', 'legitimate'], axis=1).values #now droping some coloumns as axis 1(mean coloumn) and will show the values in the rows\n",
    "y = data['legitimate'].values #values of legitimate data\n",
    "\n",
    "print('Researching important feature based on %i total features\\n' % X.shape[1])"
   ]
  },
  {
   "cell_type": "code",
   "execution_count": 3,
   "metadata": {},
   "outputs": [
    {
     "name": "stdout",
     "output_type": "stream",
     "text": [
      "13\n"
     ]
    }
   ],
   "source": [
    "\n",
    "# Feature selection using Trees Classifier\n",
    "fsel = ske.ExtraTreesClassifier().fit(X, y)\n",
    "model = SelectFromModel(fsel, prefit=True)\n",
    "X_new = model.transform(X)#now features are only 9 :)\n",
    "nb_features = X_new.shape[1]#will save value 13 as shape is (138047, 13) :}\n",
    "print(nb_features)"
   ]
  },
  {
   "cell_type": "code",
   "execution_count": 4,
   "metadata": {},
   "outputs": [],
   "source": [
    "X_train, X_test, y_train, y_test = train_test_split(X_new, y ,test_size=0.2)#now converting in training and testing data in 20% range hahhahaha ! as total x is 138047 and testing is 138047*0.2=27610 :)\n",
    "features = []"
   ]
  },
  {
   "cell_type": "code",
   "execution_count": 5,
   "metadata": {},
   "outputs": [
    {
     "name": "stdout",
     "output_type": "stream",
     "text": [
      "1. feature DllCharacteristics (0.138708)\n",
      "2. feature Characteristics (0.112977)\n",
      "3. feature Machine (0.085544)\n",
      "4. feature VersionInformationSize (0.074347)\n",
      "5. feature SectionsMaxEntropy (0.065938)\n",
      "6. feature MajorSubsystemVersion (0.054383)\n",
      "7. feature Subsystem (0.050751)\n",
      "8. feature ImageBase (0.049311)\n",
      "9. feature SizeOfOptionalHeader (0.048364)\n",
      "10. feature ResourcesMaxEntropy (0.047681)\n",
      "11. feature ResourcesMinEntropy (0.030791)\n",
      "12. feature MajorOperatingSystemVersion (0.028947)\n",
      "13. feature SectionsMinEntropy (0.022224)\n"
     ]
    }
   ],
   "source": [
    "indices = np.argsort(fsel.feature_importances_)[::-1][:nb_features]\n",
    "for f in range(nb_features):\n",
    "    print(\"%d. feature %s (%f)\" % (f + 1, data.columns[2+indices[f]], fsel.feature_importances_[indices[f]]))\n",
    "\n",
    "# mean adding to the empty 'features' array the 'important features'\n",
    "for f in sorted(np.argsort(fsel.feature_importances_)[::-1][:nb_features]):#[::-1] mean start with last towards first \n",
    "    features.append(data.columns[2+f])"
   ]
  },
  {
   "cell_type": "code",
   "execution_count": 5,
   "metadata": {},
   "outputs": [],
   "source": [
    "from keras.models import Sequential\n",
    "from keras.layers import Dense\n",
    "from keras.layers import Dropout\n",
    "from keras import regularizers"
   ]
  },
  {
   "cell_type": "code",
   "execution_count": 6,
   "metadata": {},
   "outputs": [],
   "source": [
    "model_3 = Sequential([\n",
    "    Dense(1000, activation='relu', kernel_regularizer=regularizers.l2(0.01), input_shape=(None,13)),\n",
    "    Dropout(0.3),\n",
    "    Dense(1000, activation='relu', kernel_regularizer=regularizers.l2(0.01)),\n",
    "    Dropout(0.3),\n",
    "    Dense(1000, activation='relu', kernel_regularizer=regularizers.l2(0.01)),\n",
    "    Dropout(0.3),\n",
    "    Dense(1000, activation='relu', kernel_regularizer=regularizers.l2(0.01)),\n",
    "    Dropout(0.3),\n",
    "    Dense(1, activation='sigmoid', kernel_regularizer=regularizers.l2(0.01)),\n",
    "])"
   ]
  },
  {
   "cell_type": "code",
   "execution_count": 7,
   "metadata": {},
   "outputs": [],
   "source": [
    "model_3.compile(optimizer='adam',\n",
    "              loss='binary_crossentropy',\n",
    "              metrics=['accuracy'])\n",
    "              "
   ]
  },
  {
   "cell_type": "code",
   "execution_count": null,
   "metadata": {},
   "outputs": [
    {
     "name": "stdout",
     "output_type": "stream",
     "text": [
      "Epoch 1/100\n",
      "WARNING:tensorflow:Model was constructed with shape (None, None, 13) for input KerasTensor(type_spec=TensorSpec(shape=(None, None, 13), dtype=tf.float32, name='dense_input'), name='dense_input', description=\"created by layer 'dense_input'\"), but it was called on an input with incompatible shape (None, 13).\n",
      "WARNING:tensorflow:Model was constructed with shape (None, None, 13) for input KerasTensor(type_spec=TensorSpec(shape=(None, None, 13), dtype=tf.float32, name='dense_input'), name='dense_input', description=\"created by layer 'dense_input'\"), but it was called on an input with incompatible shape (None, 13).\n",
      "3451/3452 [============================>.] - ETA: 0s - loss: 46741285914.9113 - accuracy: 0.8900WARNING:tensorflow:Model was constructed with shape (None, None, 13) for input KerasTensor(type_spec=TensorSpec(shape=(None, None, 13), dtype=tf.float32, name='dense_input'), name='dense_input', description=\"created by layer 'dense_input'\"), but it was called on an input with incompatible shape (None, 13).\n",
      "3452/3452 [==============================] - 127s 37ms/step - loss: 46765470865.5172 - accuracy: 0.8900 - val_loss: 26969688064.0000 - val_accuracy: 0.9675\n",
      "Epoch 2/100\n",
      "3452/3452 [==============================] - 125s 36ms/step - loss: 285687665983.9814 - accuracy: 0.9345 - val_loss: 60446306304.0000 - val_accuracy: 0.9661\n",
      "Epoch 3/100\n",
      "3452/3452 [==============================] - 128s 37ms/step - loss: 240738895153.9308 - accuracy: 0.9436 - val_loss: 2658971904.0000 - val_accuracy: 0.9395\n",
      "Epoch 4/100\n",
      "3452/3452 [==============================] - 128s 37ms/step - loss: 4207696324.4422 - accuracy: 0.8200 - val_loss: 932.0375 - val_accuracy: 0.7014\n",
      "Epoch 5/100\n",
      "3452/3452 [==============================] - 128s 37ms/step - loss: 36789579.0993 - accuracy: 0.7146 - val_loss: 895.0899 - val_accuracy: 0.7014\n",
      "Epoch 6/100\n",
      "3452/3452 [==============================] - 128s 37ms/step - loss: 441756.6262 - accuracy: 0.7040 - val_loss: 771.1481 - val_accuracy: 0.7014\n",
      "Epoch 7/100\n",
      "3452/3452 [==============================] - 128s 37ms/step - loss: 91743450.5912 - accuracy: 0.7046 - val_loss: 650.1128 - val_accuracy: 0.7014\n",
      "Epoch 8/100\n",
      "3452/3452 [==============================] - 121s 35ms/step - loss: 22804232.5819 - accuracy: 0.7024 - val_loss: 590.0197 - val_accuracy: 0.7014\n",
      "Epoch 9/100\n",
      "3452/3452 [==============================] - 124s 36ms/step - loss: 87071420.6078 - accuracy: 0.7047 - val_loss: 541.7645 - val_accuracy: 0.7014\n",
      "Epoch 10/100\n",
      "3452/3452 [==============================] - 121s 35ms/step - loss: 247570923.1100 - accuracy: 0.7055 - val_loss: 545.2870 - val_accuracy: 0.7014\n",
      "Epoch 11/100\n",
      "3452/3452 [==============================] - 119s 34ms/step - loss: 89880606.0859 - accuracy: 0.7123 - val_loss: 544.4623 - val_accuracy: 0.7014\n",
      "Epoch 12/100\n",
      "3452/3452 [==============================] - 123s 35ms/step - loss: 915010153.3339 - accuracy: 0.7160 - val_loss: 544.7908 - val_accuracy: 0.7014\n",
      "Epoch 13/100\n",
      "3452/3452 [==============================] - 125s 36ms/step - loss: 103978481.3489 - accuracy: 0.7121 - val_loss: 547.1058 - val_accuracy: 0.7014\n",
      "Epoch 14/100\n",
      "3452/3452 [==============================] - 119s 35ms/step - loss: 251957058.3829 - accuracy: 0.6994 - val_loss: 528.7355 - val_accuracy: 0.7014\n",
      "Epoch 15/100\n",
      "3452/3452 [==============================] - 119s 35ms/step - loss: 44861702.0684 - accuracy: 0.7041 - val_loss: 508.1072 - val_accuracy: 0.7014\n",
      "Epoch 16/100\n",
      "3452/3452 [==============================] - 119s 34ms/step - loss: 33498063.6748 - accuracy: 0.7045 - val_loss: 90561.7109 - val_accuracy: 0.2986\n",
      "Epoch 17/100\n",
      "3452/3452 [==============================] - 119s 34ms/step - loss: 23298927.2588 - accuracy: 0.7109 - val_loss: 466.4041 - val_accuracy: 0.7014\n",
      "Epoch 18/100\n",
      "3452/3452 [==============================] - 119s 35ms/step - loss: 36699386.4989 - accuracy: 0.6994 - val_loss: 439.9813 - val_accuracy: 0.7014\n",
      "Epoch 19/100\n",
      "3452/3452 [==============================] - 118s 34ms/step - loss: 42423645.7135 - accuracy: 0.7063 - val_loss: 405.2704 - val_accuracy: 0.7014\n",
      "Epoch 20/100\n",
      "3452/3452 [==============================] - 118s 34ms/step - loss: 9896917.3975 - accuracy: 0.7102 - val_loss: 377.9990 - val_accuracy: 0.7014\n",
      "Epoch 21/100\n",
      "3452/3452 [==============================] - 123s 36ms/step - loss: 18675863.5339 - accuracy: 0.7224 - val_loss: 356.9169 - val_accuracy: 0.7014\n",
      "Epoch 22/100\n",
      "3452/3452 [==============================] - 124s 36ms/step - loss: 23539101.4671 - accuracy: 0.7406 - val_loss: 921470.8750 - val_accuracy: 0.2986\n",
      "Epoch 23/100\n",
      "3452/3452 [==============================] - 124s 36ms/step - loss: 21934293.0053 - accuracy: 0.7420 - val_loss: 305.2404 - val_accuracy: 0.7014\n",
      "Epoch 24/100\n",
      "3452/3452 [==============================] - 124s 36ms/step - loss: 2971159.4002 - accuracy: 0.7133 - val_loss: 264.0830 - val_accuracy: 0.7014\n",
      "Epoch 25/100\n",
      "3452/3452 [==============================] - 125s 36ms/step - loss: 3399425.5612 - accuracy: 0.7150 - val_loss: 225.9857 - val_accuracy: 0.7014\n",
      "Epoch 26/100\n",
      "3452/3452 [==============================] - 125s 36ms/step - loss: 2790845.3098 - accuracy: 0.7110 - val_loss: 189.5899 - val_accuracy: 0.7014\n",
      "Epoch 27/100\n",
      "3452/3452 [==============================] - 125s 36ms/step - loss: 143994.9632 - accuracy: 0.7032 - val_loss: 157.8249 - val_accuracy: 0.7014\n",
      "Epoch 28/100\n",
      "3452/3452 [==============================] - 125s 36ms/step - loss: 8825265.5992 - accuracy: 0.7157 - val_loss: 132.0716 - val_accuracy: 0.7014\n",
      "Epoch 29/100\n",
      "3452/3452 [==============================] - 125s 36ms/step - loss: 3214972.7789 - accuracy: 0.7163 - val_loss: 112.1380 - val_accuracy: 0.7014\n",
      "Epoch 30/100\n",
      "3452/3452 [==============================] - 124s 36ms/step - loss: 627378.5952 - accuracy: 0.7079 - val_loss: 92.5458 - val_accuracy: 0.7014\n",
      "Epoch 31/100\n",
      "3452/3452 [==============================] - 124s 36ms/step - loss: 154087.7966 - accuracy: 0.7130 - val_loss: 77.3900 - val_accuracy: 0.7014\n",
      "Epoch 32/100\n",
      "3452/3452 [==============================] - 125s 36ms/step - loss: 1136660.5952 - accuracy: 0.7188 - val_loss: 66.6393 - val_accuracy: 0.7014\n",
      "Epoch 33/100\n",
      "3452/3452 [==============================] - 126s 36ms/step - loss: 493259.8646 - accuracy: 0.7092 - val_loss: 55.8399 - val_accuracy: 0.7014\n",
      "Epoch 34/100\n",
      "3452/3452 [==============================] - 127s 37ms/step - loss: 211431.0621 - accuracy: 0.7056 - val_loss: 45.6533 - val_accuracy: 0.7014\n",
      "Epoch 35/100\n",
      "3452/3452 [==============================] - 122s 35ms/step - loss: 439768.2147 - accuracy: 0.7114 - val_loss: 36.7933 - val_accuracy: 0.7014\n",
      "Epoch 36/100\n",
      "3452/3452 [==============================] - 122s 35ms/step - loss: 83075.4390 - accuracy: 0.7073 - val_loss: 2020.3944 - val_accuracy: 0.9524\n",
      "Epoch 37/100\n",
      "3452/3452 [==============================] - 124s 36ms/step - loss: 24450.3239 - accuracy: 0.7107 - val_loss: 24.5116 - val_accuracy: 0.7014\n",
      "Epoch 38/100\n",
      "3452/3452 [==============================] - 129s 37ms/step - loss: 192069.9140 - accuracy: 0.7037 - val_loss: 21.6206 - val_accuracy: 0.7014\n",
      "Epoch 39/100\n",
      "3452/3452 [==============================] - 130s 38ms/step - loss: 24593.4702 - accuracy: 0.7055 - val_loss: 19.0615 - val_accuracy: 0.7014\n",
      "Epoch 40/100\n",
      "3452/3452 [==============================] - 130s 38ms/step - loss: 22560.4841 - accuracy: 0.7031 - val_loss: 17.6909 - val_accuracy: 0.7014\n",
      "Epoch 41/100\n",
      "3452/3452 [==============================] - 125s 36ms/step - loss: 15580.8041 - accuracy: 0.7052 - val_loss: 16.3001 - val_accuracy: 0.7014\n",
      "Epoch 42/100\n",
      "3452/3452 [==============================] - 122s 35ms/step - loss: 12586.8358 - accuracy: 0.7038 - val_loss: 14.5350 - val_accuracy: 0.7014\n",
      "Epoch 43/100\n",
      "3452/3452 [==============================] - 119s 35ms/step - loss: 22342.7896 - accuracy: 0.7011 - val_loss: 12.8275 - val_accuracy: 0.7014\n",
      "Epoch 44/100\n",
      "3452/3452 [==============================] - 122s 35ms/step - loss: 7249.2581 - accuracy: 0.7041 - val_loss: 11.5838 - val_accuracy: 0.7014\n",
      "Epoch 45/100\n",
      "3452/3452 [==============================] - 122s 35ms/step - loss: 15486.1401 - accuracy: 0.7094 - val_loss: 10.3009 - val_accuracy: 0.7014\n",
      "Epoch 46/100\n"
     ]
    },
    {
     "name": "stdout",
     "output_type": "stream",
     "text": [
      "3452/3452 [==============================] - 121s 35ms/step - loss: 2053.2493 - accuracy: 0.7076 - val_loss: 8.8830 - val_accuracy: 0.7014\n",
      "Epoch 47/100\n",
      "3452/3452 [==============================] - 123s 36ms/step - loss: 57954.0204 - accuracy: 0.7024 - val_loss: 9.5097 - val_accuracy: 0.7014\n",
      "Epoch 48/100\n",
      "3452/3452 [==============================] - 123s 36ms/step - loss: 15721.9357 - accuracy: 0.7096 - val_loss: 8.7538 - val_accuracy: 0.7014\n",
      "Epoch 49/100\n",
      "3452/3452 [==============================] - 124s 36ms/step - loss: 4672.2112 - accuracy: 0.7008 - val_loss: 8.2410 - val_accuracy: 0.7014\n",
      "Epoch 50/100\n",
      "3452/3452 [==============================] - 123s 36ms/step - loss: 6049.6158 - accuracy: 0.7009 - val_loss: 7.9816 - val_accuracy: 0.7014\n",
      "Epoch 51/100\n",
      "3452/3452 [==============================] - 123s 36ms/step - loss: 47553.2561 - accuracy: 0.7027 - val_loss: 21.5021 - val_accuracy: 0.9675\n",
      "Epoch 52/100\n",
      "3452/3452 [==============================] - 123s 36ms/step - loss: 19684.9160 - accuracy: 0.7031 - val_loss: 7.2386 - val_accuracy: 0.7014\n",
      "Epoch 53/100\n",
      "3452/3452 [==============================] - 124s 36ms/step - loss: 22540.9741 - accuracy: 0.7022 - val_loss: 6.6960 - val_accuracy: 0.7014\n",
      "Epoch 54/100\n",
      " 161/3452 [>.............................] - ETA: 1:48 - loss: 6.6813 - accuracy: 0.6963"
     ]
    }
   ],
   "source": [
    "hist_3 = model_3.fit(X_train, y_train,\n",
    "          batch_size=32, epochs=100,\n",
    "          validation_data=(X_test, y_test))"
   ]
  },
  {
   "cell_type": "code",
   "execution_count": null,
   "metadata": {},
   "outputs": [],
   "source": []
  }
 ],
 "metadata": {
  "kernelspec": {
   "display_name": "Python 3",
   "language": "python",
   "name": "python3"
  },
  "language_info": {
   "codemirror_mode": {
    "name": "ipython",
    "version": 3
   },
   "file_extension": ".py",
   "mimetype": "text/x-python",
   "name": "python",
   "nbconvert_exporter": "python",
   "pygments_lexer": "ipython3",
   "version": "3.8.5"
  }
 },
 "nbformat": 4,
 "nbformat_minor": 4
}
